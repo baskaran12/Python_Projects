{
 "cells": [
  {
   "cell_type": "code",
   "execution_count": 171,
   "metadata": {},
   "outputs": [
    {
     "data": {
      "text/html": [
       "<div>\n",
       "<style scoped>\n",
       "    .dataframe tbody tr th:only-of-type {\n",
       "        vertical-align: middle;\n",
       "    }\n",
       "\n",
       "    .dataframe tbody tr th {\n",
       "        vertical-align: top;\n",
       "    }\n",
       "\n",
       "    .dataframe thead th {\n",
       "        text-align: right;\n",
       "    }\n",
       "</style>\n",
       "<table border=\"1\" class=\"dataframe\">\n",
       "  <thead>\n",
       "    <tr style=\"text-align: right;\">\n",
       "      <th></th>\n",
       "      <th>name</th>\n",
       "      <th>gender</th>\n",
       "      <th>mail</th>\n",
       "    </tr>\n",
       "  </thead>\n",
       "  <tbody>\n",
       "    <tr>\n",
       "      <th>0</th>\n",
       "      <td>ankit</td>\n",
       "      <td>male</td>\n",
       "      <td>ankit@gmail.com</td>\n",
       "    </tr>\n",
       "    <tr>\n",
       "      <th>1</th>\n",
       "      <td>boss</td>\n",
       "      <td>male</td>\n",
       "      <td>boss@gmail.com</td>\n",
       "    </tr>\n",
       "    <tr>\n",
       "      <th>2</th>\n",
       "      <td>preeti</td>\n",
       "      <td>female</td>\n",
       "      <td>preeti@gmail.com</td>\n",
       "    </tr>\n",
       "  </tbody>\n",
       "</table>\n",
       "</div>"
      ],
      "text/plain": [
       "     name  gender              mail\n",
       "0   ankit    male   ankit@gmail.com\n",
       "1    boss    male    boss@gmail.com\n",
       "2  preeti  female  preeti@gmail.com"
      ]
     },
     "execution_count": 171,
     "metadata": {},
     "output_type": "execute_result"
    }
   ],
   "source": [
    "import pandas as pd\n",
    "emp={\"name\":[\"ankit\",\"boss\",\"preeti\"],\"gender\":[\"male\",\"male\",\"female\"],\"mail\":[\"ankit@gmail.com\",\"boss@gmail.com\",\"preeti@gmail.com\"]} \n",
    "df=pd.DataFrame(emp)\n",
    "df.iloc[:,0:3]\n",
    "df.loc[0:2,:]"
   ]
  },
  {
   "cell_type": "code",
   "execution_count": 23,
   "metadata": {},
   "outputs": [
    {
     "data": {
      "text/html": [
       "<div>\n",
       "<style scoped>\n",
       "    .dataframe tbody tr th:only-of-type {\n",
       "        vertical-align: middle;\n",
       "    }\n",
       "\n",
       "    .dataframe tbody tr th {\n",
       "        vertical-align: top;\n",
       "    }\n",
       "\n",
       "    .dataframe thead th {\n",
       "        text-align: right;\n",
       "    }\n",
       "</style>\n",
       "<table border=\"1\" class=\"dataframe\">\n",
       "  <thead>\n",
       "    <tr style=\"text-align: right;\">\n",
       "      <th></th>\n",
       "      <th>name</th>\n",
       "      <th>gender</th>\n",
       "    </tr>\n",
       "    <tr>\n",
       "      <th>mail</th>\n",
       "      <th></th>\n",
       "      <th></th>\n",
       "    </tr>\n",
       "  </thead>\n",
       "  <tbody>\n",
       "    <tr>\n",
       "      <th>ankit@gmail.com</th>\n",
       "      <td>ankit</td>\n",
       "      <td>male</td>\n",
       "    </tr>\n",
       "    <tr>\n",
       "      <th>boss@gmail.com</th>\n",
       "      <td>boss</td>\n",
       "      <td>male</td>\n",
       "    </tr>\n",
       "  </tbody>\n",
       "</table>\n",
       "</div>"
      ],
      "text/plain": [
       "                  name gender\n",
       "mail                         \n",
       "ankit@gmail.com  ankit   male\n",
       "boss@gmail.com    boss   male"
      ]
     },
     "execution_count": 23,
     "metadata": {},
     "output_type": "execute_result"
    }
   ],
   "source": [
    "df.loc[[\"ankit@gmail.com\",\"boss@gmail.com\"],[\"name\",\"gender\"]]"
   ]
  },
  {
   "cell_type": "code",
   "execution_count": 26,
   "metadata": {},
   "outputs": [
    {
     "data": {
      "text/html": [
       "<div>\n",
       "<style scoped>\n",
       "    .dataframe tbody tr th:only-of-type {\n",
       "        vertical-align: middle;\n",
       "    }\n",
       "\n",
       "    .dataframe tbody tr th {\n",
       "        vertical-align: top;\n",
       "    }\n",
       "\n",
       "    .dataframe thead th {\n",
       "        text-align: right;\n",
       "    }\n",
       "</style>\n",
       "<table border=\"1\" class=\"dataframe\">\n",
       "  <thead>\n",
       "    <tr style=\"text-align: right;\">\n",
       "      <th></th>\n",
       "      <th>index</th>\n",
       "      <th>mail</th>\n",
       "      <th>name</th>\n",
       "      <th>gender</th>\n",
       "    </tr>\n",
       "  </thead>\n",
       "  <tbody>\n",
       "    <tr>\n",
       "      <th>0</th>\n",
       "      <td>0</td>\n",
       "      <td>ankit@gmail.com</td>\n",
       "      <td>ankit</td>\n",
       "      <td>male</td>\n",
       "    </tr>\n",
       "    <tr>\n",
       "      <th>1</th>\n",
       "      <td>1</td>\n",
       "      <td>boss@gmail.com</td>\n",
       "      <td>boss</td>\n",
       "      <td>male</td>\n",
       "    </tr>\n",
       "    <tr>\n",
       "      <th>2</th>\n",
       "      <td>2</td>\n",
       "      <td>preeti@gmail.com</td>\n",
       "      <td>preeti</td>\n",
       "      <td>female</td>\n",
       "    </tr>\n",
       "  </tbody>\n",
       "</table>\n",
       "</div>"
      ],
      "text/plain": [
       "   index              mail    name  gender\n",
       "0      0   ankit@gmail.com   ankit    male\n",
       "1      1    boss@gmail.com    boss    male\n",
       "2      2  preeti@gmail.com  preeti  female"
      ]
     },
     "execution_count": 26,
     "metadata": {},
     "output_type": "execute_result"
    }
   ],
   "source": [
    "df.reset_index(inplace=True)\n",
    "df"
   ]
  },
  {
   "cell_type": "code",
   "execution_count": 30,
   "metadata": {},
   "outputs": [
    {
     "data": {
      "text/html": [
       "<div>\n",
       "<style scoped>\n",
       "    .dataframe tbody tr th:only-of-type {\n",
       "        vertical-align: middle;\n",
       "    }\n",
       "\n",
       "    .dataframe tbody tr th {\n",
       "        vertical-align: top;\n",
       "    }\n",
       "\n",
       "    .dataframe thead th {\n",
       "        text-align: right;\n",
       "    }\n",
       "</style>\n",
       "<table border=\"1\" class=\"dataframe\">\n",
       "  <thead>\n",
       "    <tr style=\"text-align: right;\">\n",
       "      <th></th>\n",
       "      <th>index</th>\n",
       "      <th>mail</th>\n",
       "      <th>name</th>\n",
       "      <th>gender</th>\n",
       "    </tr>\n",
       "  </thead>\n",
       "  <tbody>\n",
       "    <tr>\n",
       "      <th>0</th>\n",
       "      <td>0</td>\n",
       "      <td>ankit@gmail.com</td>\n",
       "      <td>ankit</td>\n",
       "      <td>male</td>\n",
       "    </tr>\n",
       "    <tr>\n",
       "      <th>1</th>\n",
       "      <td>1</td>\n",
       "      <td>boss@gmail.com</td>\n",
       "      <td>boss</td>\n",
       "      <td>male</td>\n",
       "    </tr>\n",
       "  </tbody>\n",
       "</table>\n",
       "</div>"
      ],
      "text/plain": [
       "   index             mail   name gender\n",
       "0      0  ankit@gmail.com  ankit   male\n",
       "1      1   boss@gmail.com   boss   male"
      ]
     },
     "execution_count": 30,
     "metadata": {},
     "output_type": "execute_result"
    }
   ],
   "source": [
    "df[(df.name=='ankit')|(df.name=='boss')]"
   ]
  },
  {
   "cell_type": "code",
   "execution_count": 47,
   "metadata": {},
   "outputs": [
    {
     "data": {
      "text/html": [
       "<div>\n",
       "<style scoped>\n",
       "    .dataframe tbody tr th:only-of-type {\n",
       "        vertical-align: middle;\n",
       "    }\n",
       "\n",
       "    .dataframe tbody tr th {\n",
       "        vertical-align: top;\n",
       "    }\n",
       "\n",
       "    .dataframe thead th {\n",
       "        text-align: right;\n",
       "    }\n",
       "</style>\n",
       "<table border=\"1\" class=\"dataframe\">\n",
       "  <thead>\n",
       "    <tr style=\"text-align: right;\">\n",
       "      <th></th>\n",
       "      <th>name</th>\n",
       "      <th>gender</th>\n",
       "      <th>mail</th>\n",
       "    </tr>\n",
       "  </thead>\n",
       "  <tbody>\n",
       "  </tbody>\n",
       "</table>\n",
       "</div>"
      ],
      "text/plain": [
       "Empty DataFrame\n",
       "Columns: [name, gender, mail]\n",
       "Index: []"
      ]
     },
     "execution_count": 47,
     "metadata": {},
     "output_type": "execute_result"
    }
   ],
   "source": [
    "df[df.name.isna()]"
   ]
  },
  {
   "cell_type": "code",
   "execution_count": 34,
   "metadata": {},
   "outputs": [
    {
     "data": {
      "text/html": [
       "<div>\n",
       "<style scoped>\n",
       "    .dataframe tbody tr th:only-of-type {\n",
       "        vertical-align: middle;\n",
       "    }\n",
       "\n",
       "    .dataframe tbody tr th {\n",
       "        vertical-align: top;\n",
       "    }\n",
       "\n",
       "    .dataframe thead th {\n",
       "        text-align: right;\n",
       "    }\n",
       "</style>\n",
       "<table border=\"1\" class=\"dataframe\">\n",
       "  <thead>\n",
       "    <tr style=\"text-align: right;\">\n",
       "      <th></th>\n",
       "      <th>name</th>\n",
       "      <th>gender</th>\n",
       "    </tr>\n",
       "  </thead>\n",
       "  <tbody>\n",
       "    <tr>\n",
       "      <th>0</th>\n",
       "      <td>ankit</td>\n",
       "      <td>male</td>\n",
       "    </tr>\n",
       "    <tr>\n",
       "      <th>1</th>\n",
       "      <td>boss</td>\n",
       "      <td>male</td>\n",
       "    </tr>\n",
       "  </tbody>\n",
       "</table>\n",
       "</div>"
      ],
      "text/plain": [
       "    name gender\n",
       "0  ankit   male\n",
       "1   boss   male"
      ]
     },
     "execution_count": 34,
     "metadata": {},
     "output_type": "execute_result"
    }
   ],
   "source": [
    "df[(df.name=='ankit')|(df.name=='boss')][['name','gender']]"
   ]
  },
  {
   "cell_type": "code",
   "execution_count": 49,
   "metadata": {},
   "outputs": [
    {
     "data": {
      "text/plain": [
       "pandas.core.series.Series"
      ]
     },
     "execution_count": 49,
     "metadata": {},
     "output_type": "execute_result"
    }
   ],
   "source": [
    "type(df[(df.name=='ankit')|(df.name=='boss')]['name'])"
   ]
  },
  {
   "cell_type": "code",
   "execution_count": 45,
   "metadata": {},
   "outputs": [
    {
     "data": {
      "text/plain": [
       "array(['ankit', 'boss'], dtype=object)"
      ]
     },
     "execution_count": 45,
     "metadata": {},
     "output_type": "execute_result"
    }
   ],
   "source": [
    "df[(df.name=='ankit')|(df.name=='boss')]['name'].index\n",
    "df[(df.name=='ankit')|(df.name=='boss')]['name'].values"
   ]
  },
  {
   "cell_type": "code",
   "execution_count": 56,
   "metadata": {},
   "outputs": [
    {
     "data": {
      "text/html": [
       "<div>\n",
       "<style scoped>\n",
       "    .dataframe tbody tr th:only-of-type {\n",
       "        vertical-align: middle;\n",
       "    }\n",
       "\n",
       "    .dataframe tbody tr th {\n",
       "        vertical-align: top;\n",
       "    }\n",
       "\n",
       "    .dataframe thead th {\n",
       "        text-align: right;\n",
       "    }\n",
       "</style>\n",
       "<table border=\"1\" class=\"dataframe\">\n",
       "  <thead>\n",
       "    <tr style=\"text-align: right;\">\n",
       "      <th></th>\n",
       "      <th>name</th>\n",
       "      <th>gender</th>\n",
       "      <th>mail</th>\n",
       "    </tr>\n",
       "  </thead>\n",
       "  <tbody>\n",
       "    <tr>\n",
       "      <th>0</th>\n",
       "      <td>ankitbansal</td>\n",
       "      <td>male</td>\n",
       "      <td>ankit@gmail.com</td>\n",
       "    </tr>\n",
       "    <tr>\n",
       "      <th>1</th>\n",
       "      <td>boss</td>\n",
       "      <td>male</td>\n",
       "      <td>boss@gmail.com</td>\n",
       "    </tr>\n",
       "    <tr>\n",
       "      <th>2</th>\n",
       "      <td>preeti</td>\n",
       "      <td>female</td>\n",
       "      <td>preeti@gmail.com</td>\n",
       "    </tr>\n",
       "  </tbody>\n",
       "</table>\n",
       "</div>"
      ],
      "text/plain": [
       "          name  gender              mail\n",
       "0  ankitbansal    male   ankit@gmail.com\n",
       "1         boss    male    boss@gmail.com\n",
       "2       preeti  female  preeti@gmail.com"
      ]
     },
     "execution_count": 56,
     "metadata": {},
     "output_type": "execute_result"
    }
   ],
   "source": [
    "df.loc[0,['name','gender']]=['ankitbansal','male']\n",
    "df"
   ]
  },
  {
   "cell_type": "code",
   "execution_count": 64,
   "metadata": {},
   "outputs": [
    {
     "data": {
      "text/html": [
       "<div>\n",
       "<style scoped>\n",
       "    .dataframe tbody tr th:only-of-type {\n",
       "        vertical-align: middle;\n",
       "    }\n",
       "\n",
       "    .dataframe tbody tr th {\n",
       "        vertical-align: top;\n",
       "    }\n",
       "\n",
       "    .dataframe thead th {\n",
       "        text-align: right;\n",
       "    }\n",
       "</style>\n",
       "<table border=\"1\" class=\"dataframe\">\n",
       "  <thead>\n",
       "    <tr style=\"text-align: right;\">\n",
       "      <th></th>\n",
       "      <th>name</th>\n",
       "      <th>gender</th>\n",
       "      <th>mail</th>\n",
       "    </tr>\n",
       "  </thead>\n",
       "  <tbody>\n",
       "    <tr>\n",
       "      <th>0</th>\n",
       "      <td>ankitbansal</td>\n",
       "      <td>male</td>\n",
       "      <td>ankit@gmail.com</td>\n",
       "    </tr>\n",
       "    <tr>\n",
       "      <th>1</th>\n",
       "      <td>boss</td>\n",
       "      <td>male</td>\n",
       "      <td>boss@gmail.com</td>\n",
       "    </tr>\n",
       "  </tbody>\n",
       "</table>\n",
       "</div>"
      ],
      "text/plain": [
       "          name gender             mail\n",
       "0  ankitbansal   male  ankit@gmail.com\n",
       "1         boss   male   boss@gmail.com"
      ]
     },
     "execution_count": 64,
     "metadata": {},
     "output_type": "execute_result"
    }
   ],
   "source": [
    "fc=df.gender.isin(['male'])\n",
    "df[fc]"
   ]
  },
  {
   "cell_type": "code",
   "execution_count": 65,
   "metadata": {},
   "outputs": [
    {
     "data": {
      "text/plain": [
       "0    ANKITBANSAL\n",
       "1           BOSS\n",
       "2         PREETI\n",
       "Name: name, dtype: object"
      ]
     },
     "execution_count": 65,
     "metadata": {},
     "output_type": "execute_result"
    }
   ],
   "source": [
    "df.name.str.upper()"
   ]
  },
  {
   "cell_type": "code",
   "execution_count": 74,
   "metadata": {},
   "outputs": [
    {
     "data": {
      "text/html": [
       "<div>\n",
       "<style scoped>\n",
       "    .dataframe tbody tr th:only-of-type {\n",
       "        vertical-align: middle;\n",
       "    }\n",
       "\n",
       "    .dataframe tbody tr th {\n",
       "        vertical-align: top;\n",
       "    }\n",
       "\n",
       "    .dataframe thead th {\n",
       "        text-align: right;\n",
       "    }\n",
       "</style>\n",
       "<table border=\"1\" class=\"dataframe\">\n",
       "  <thead>\n",
       "    <tr style=\"text-align: right;\">\n",
       "      <th></th>\n",
       "      <th>name</th>\n",
       "      <th>gender</th>\n",
       "      <th>mail</th>\n",
       "      <th>salary</th>\n",
       "    </tr>\n",
       "  </thead>\n",
       "  <tbody>\n",
       "    <tr>\n",
       "      <th>0</th>\n",
       "      <td>ankitbansal</td>\n",
       "      <td>male</td>\n",
       "      <td>ankit@gmail.com</td>\n",
       "      <td>50000</td>\n",
       "    </tr>\n",
       "    <tr>\n",
       "      <th>1</th>\n",
       "      <td>boss</td>\n",
       "      <td>male</td>\n",
       "      <td>boss@gmail.com</td>\n",
       "      <td>50000</td>\n",
       "    </tr>\n",
       "    <tr>\n",
       "      <th>2</th>\n",
       "      <td>preeti</td>\n",
       "      <td>female</td>\n",
       "      <td>preeti@gmail.com</td>\n",
       "      <td>30000</td>\n",
       "    </tr>\n",
       "  </tbody>\n",
       "</table>\n",
       "</div>"
      ],
      "text/plain": [
       "          name  gender              mail  salary\n",
       "0  ankitbansal    male   ankit@gmail.com   50000\n",
       "1         boss    male    boss@gmail.com   50000\n",
       "2       preeti  female  preeti@gmail.com   30000"
      ]
     },
     "execution_count": 74,
     "metadata": {},
     "output_type": "execute_result"
    }
   ],
   "source": [
    "df['salary']=10000\n",
    "df.loc[1,'salary']=20000\n",
    "df.loc[2,'salary']=30000\n",
    "fc=df.gender=='male'\n",
    "df.loc[fc,'salary']=50000\n",
    "df"
   ]
  },
  {
   "cell_type": "code",
   "execution_count": 80,
   "metadata": {},
   "outputs": [
    {
     "data": {
      "text/html": [
       "<div>\n",
       "<style scoped>\n",
       "    .dataframe tbody tr th:only-of-type {\n",
       "        vertical-align: middle;\n",
       "    }\n",
       "\n",
       "    .dataframe tbody tr th {\n",
       "        vertical-align: top;\n",
       "    }\n",
       "\n",
       "    .dataframe thead th {\n",
       "        text-align: right;\n",
       "    }\n",
       "</style>\n",
       "<table border=\"1\" class=\"dataframe\">\n",
       "  <thead>\n",
       "    <tr style=\"text-align: right;\">\n",
       "      <th></th>\n",
       "      <th>name</th>\n",
       "      <th>gender</th>\n",
       "      <th>mail</th>\n",
       "      <th>salary</th>\n",
       "    </tr>\n",
       "  </thead>\n",
       "  <tbody>\n",
       "    <tr>\n",
       "      <th>2</th>\n",
       "      <td>preeti</td>\n",
       "      <td>female</td>\n",
       "      <td>preeti@gmail.com</td>\n",
       "      <td>30000</td>\n",
       "    </tr>\n",
       "    <tr>\n",
       "      <th>0</th>\n",
       "      <td>ankitbansal</td>\n",
       "      <td>male</td>\n",
       "      <td>ankit@gmail.com</td>\n",
       "      <td>50000</td>\n",
       "    </tr>\n",
       "    <tr>\n",
       "      <th>1</th>\n",
       "      <td>boss</td>\n",
       "      <td>male</td>\n",
       "      <td>boss@gmail.com</td>\n",
       "      <td>50000</td>\n",
       "    </tr>\n",
       "  </tbody>\n",
       "</table>\n",
       "</div>"
      ],
      "text/plain": [
       "          name  gender              mail  salary\n",
       "2       preeti  female  preeti@gmail.com   30000\n",
       "0  ankitbansal    male   ankit@gmail.com   50000\n",
       "1         boss    male    boss@gmail.com   50000"
      ]
     },
     "execution_count": 80,
     "metadata": {},
     "output_type": "execute_result"
    }
   ],
   "source": [
    "df.sort_values(by=['salary','name'],ascending=[True,True])"
   ]
  },
  {
   "cell_type": "code",
   "execution_count": 83,
   "metadata": {},
   "outputs": [
    {
     "data": {
      "text/html": [
       "<div>\n",
       "<style scoped>\n",
       "    .dataframe tbody tr th:only-of-type {\n",
       "        vertical-align: middle;\n",
       "    }\n",
       "\n",
       "    .dataframe tbody tr th {\n",
       "        vertical-align: top;\n",
       "    }\n",
       "\n",
       "    .dataframe thead th {\n",
       "        text-align: right;\n",
       "    }\n",
       "</style>\n",
       "<table border=\"1\" class=\"dataframe\">\n",
       "  <thead>\n",
       "    <tr style=\"text-align: right;\">\n",
       "      <th></th>\n",
       "      <th>name</th>\n",
       "      <th>gender</th>\n",
       "      <th>mail</th>\n",
       "      <th>salary</th>\n",
       "    </tr>\n",
       "  </thead>\n",
       "  <tbody>\n",
       "    <tr>\n",
       "      <th>2</th>\n",
       "      <td>preeti</td>\n",
       "      <td>female</td>\n",
       "      <td>preeti@gmail.com</td>\n",
       "      <td>30000</td>\n",
       "    </tr>\n",
       "    <tr>\n",
       "      <th>1</th>\n",
       "      <td>boss</td>\n",
       "      <td>male</td>\n",
       "      <td>boss@gmail.com</td>\n",
       "      <td>50000</td>\n",
       "    </tr>\n",
       "    <tr>\n",
       "      <th>0</th>\n",
       "      <td>ankitbansal</td>\n",
       "      <td>male</td>\n",
       "      <td>ankit@gmail.com</td>\n",
       "      <td>50000</td>\n",
       "    </tr>\n",
       "  </tbody>\n",
       "</table>\n",
       "</div>"
      ],
      "text/plain": [
       "          name  gender              mail  salary\n",
       "2       preeti  female  preeti@gmail.com   30000\n",
       "1         boss    male    boss@gmail.com   50000\n",
       "0  ankitbansal    male   ankit@gmail.com   50000"
      ]
     },
     "execution_count": 83,
     "metadata": {},
     "output_type": "execute_result"
    }
   ],
   "source": [
    "df.sort_index(ascending=False)"
   ]
  },
  {
   "cell_type": "code",
   "execution_count": 321,
   "metadata": {},
   "outputs": [
    {
     "data": {
      "text/html": [
       "<div>\n",
       "<style scoped>\n",
       "    .dataframe tbody tr th:only-of-type {\n",
       "        vertical-align: middle;\n",
       "    }\n",
       "\n",
       "    .dataframe tbody tr th {\n",
       "        vertical-align: top;\n",
       "    }\n",
       "\n",
       "    .dataframe thead th {\n",
       "        text-align: right;\n",
       "    }\n",
       "</style>\n",
       "<table border=\"1\" class=\"dataframe\">\n",
       "  <thead>\n",
       "    <tr style=\"text-align: right;\">\n",
       "      <th></th>\n",
       "      <th>order_id</th>\n",
       "      <th>order_date</th>\n",
       "      <th>customer_name</th>\n",
       "      <th>city</th>\n",
       "      <th>category</th>\n",
       "      <th>product_id</th>\n",
       "      <th>sales</th>\n",
       "      <th>profit</th>\n",
       "    </tr>\n",
       "  </thead>\n",
       "  <tbody>\n",
       "    <tr>\n",
       "      <th>0</th>\n",
       "      <td>CA-2018-100006</td>\n",
       "      <td>2018-09-07</td>\n",
       "      <td>Dennis Kane</td>\n",
       "      <td>New York City</td>\n",
       "      <td>Technology</td>\n",
       "      <td>TEC-PH-10002075</td>\n",
       "      <td>377.970</td>\n",
       "      <td>109.6113</td>\n",
       "    </tr>\n",
       "    <tr>\n",
       "      <th>1</th>\n",
       "      <td>CA-2018-100090</td>\n",
       "      <td>2018-07-08</td>\n",
       "      <td>Ed Braxton</td>\n",
       "      <td>San Francisco</td>\n",
       "      <td>Furniture</td>\n",
       "      <td>FUR-TA-10003715</td>\n",
       "      <td>502.488</td>\n",
       "      <td>-87.9354</td>\n",
       "    </tr>\n",
       "    <tr>\n",
       "      <th>2</th>\n",
       "      <td>CA-2018-100293</td>\n",
       "      <td>2018-03-14</td>\n",
       "      <td>Neil Französisch</td>\n",
       "      <td>Jacksonville</td>\n",
       "      <td>Office Supplies</td>\n",
       "      <td>OFF-PA-10000176</td>\n",
       "      <td>91.056</td>\n",
       "      <td>31.8696</td>\n",
       "    </tr>\n",
       "    <tr>\n",
       "      <th>3</th>\n",
       "      <td>CA-2018-100328</td>\n",
       "      <td>2018-01-28</td>\n",
       "      <td>Jasper Cacioppo</td>\n",
       "      <td>New York City</td>\n",
       "      <td>Office Supplies</td>\n",
       "      <td>OFF-BI-10000343</td>\n",
       "      <td>3.928</td>\n",
       "      <td>1.3257</td>\n",
       "    </tr>\n",
       "    <tr>\n",
       "      <th>4</th>\n",
       "      <td>CA-2018-100363</td>\n",
       "      <td>2018-04-08</td>\n",
       "      <td>Jim Mitchum</td>\n",
       "      <td>Glendale</td>\n",
       "      <td>Office Supplies</td>\n",
       "      <td>OFF-FA-10000611</td>\n",
       "      <td>2.368</td>\n",
       "      <td>0.8288</td>\n",
       "    </tr>\n",
       "  </tbody>\n",
       "</table>\n",
       "</div>"
      ],
      "text/plain": [
       "         order_id  order_date     customer_name           city  \\\n",
       "0  CA-2018-100006  2018-09-07       Dennis Kane  New York City   \n",
       "1  CA-2018-100090  2018-07-08        Ed Braxton  San Francisco   \n",
       "2  CA-2018-100293  2018-03-14  Neil Französisch   Jacksonville   \n",
       "3  CA-2018-100328  2018-01-28   Jasper Cacioppo  New York City   \n",
       "4  CA-2018-100363  2018-04-08       Jim Mitchum       Glendale   \n",
       "\n",
       "          category       product_id    sales    profit  \n",
       "0       Technology  TEC-PH-10002075  377.970  109.6113  \n",
       "1        Furniture  FUR-TA-10003715  502.488  -87.9354  \n",
       "2  Office Supplies  OFF-PA-10000176   91.056   31.8696  \n",
       "3  Office Supplies  OFF-BI-10000343    3.928    1.3257  \n",
       "4  Office Supplies  OFF-FA-10000611    2.368    0.8288  "
      ]
     },
     "execution_count": 321,
     "metadata": {},
     "output_type": "execute_result"
    }
   ],
   "source": [
    "import pandas as pd\n",
    "df=pd.read_csv('orders.txt')\n",
    "df.head(5)"
   ]
  },
  {
   "cell_type": "code",
   "execution_count": 85,
   "metadata": {},
   "outputs": [
    {
     "data": {
      "text/plain": [
       "category\n",
       "Office Supplies    2773\n",
       "Furniture          1764\n",
       "Technology          472\n",
       "Name: count, dtype: int64"
      ]
     },
     "execution_count": 85,
     "metadata": {},
     "output_type": "execute_result"
    }
   ],
   "source": [
    "df.category.value_counts()"
   ]
  },
  {
   "cell_type": "code",
   "execution_count": 196,
   "metadata": {},
   "outputs": [
    {
     "data": {
      "text/plain": [
       "category\n",
       "Furniture          628359.3048\n",
       "Office Supplies    298596.7520\n",
       "Technology         180636.8480\n",
       "Name: sales, dtype: float64"
      ]
     },
     "execution_count": 196,
     "metadata": {},
     "output_type": "execute_result"
    }
   ],
   "source": [
    "df_cat=df.groupby('category')['sales'].sum()\n",
    "df_cat"
   ]
  },
  {
   "cell_type": "code",
   "execution_count": 93,
   "metadata": {},
   "outputs": [
    {
     "data": {
      "text/plain": [
       "array([628359.3048, 298596.752 , 180636.848 ])"
      ]
     },
     "execution_count": 93,
     "metadata": {},
     "output_type": "execute_result"
    }
   ],
   "source": [
    "df_cat.index\n",
    "df_cat.values"
   ]
  },
  {
   "cell_type": "code",
   "execution_count": 98,
   "metadata": {},
   "outputs": [
    {
     "data": {
      "text/plain": [
       "pandas.core.frame.DataFrame"
      ]
     },
     "execution_count": 98,
     "metadata": {},
     "output_type": "execute_result"
    }
   ],
   "source": [
    "df_cat=pd.DataFrame(df_cat)\n",
    "df_cat.reset_index(inplace=True)\n",
    "type(df_cat)"
   ]
  },
  {
   "cell_type": "code",
   "execution_count": 99,
   "metadata": {},
   "outputs": [
    {
     "data": {
      "text/html": [
       "<div>\n",
       "<style scoped>\n",
       "    .dataframe tbody tr th:only-of-type {\n",
       "        vertical-align: middle;\n",
       "    }\n",
       "\n",
       "    .dataframe tbody tr th {\n",
       "        vertical-align: top;\n",
       "    }\n",
       "\n",
       "    .dataframe thead th {\n",
       "        text-align: right;\n",
       "    }\n",
       "</style>\n",
       "<table border=\"1\" class=\"dataframe\">\n",
       "  <thead>\n",
       "    <tr style=\"text-align: right;\">\n",
       "      <th></th>\n",
       "      <th>category</th>\n",
       "      <th>sales</th>\n",
       "    </tr>\n",
       "  </thead>\n",
       "  <tbody>\n",
       "    <tr>\n",
       "      <th>0</th>\n",
       "      <td>Furniture</td>\n",
       "      <td>628359.3048</td>\n",
       "    </tr>\n",
       "    <tr>\n",
       "      <th>1</th>\n",
       "      <td>Office Supplies</td>\n",
       "      <td>298596.7520</td>\n",
       "    </tr>\n",
       "    <tr>\n",
       "      <th>2</th>\n",
       "      <td>Technology</td>\n",
       "      <td>180636.8480</td>\n",
       "    </tr>\n",
       "  </tbody>\n",
       "</table>\n",
       "</div>"
      ],
      "text/plain": [
       "          category        sales\n",
       "0        Furniture  628359.3048\n",
       "1  Office Supplies  298596.7520\n",
       "2       Technology  180636.8480"
      ]
     },
     "execution_count": 99,
     "metadata": {},
     "output_type": "execute_result"
    }
   ],
   "source": [
    "df_cat=df.groupby('category',as_index=False)['sales'].sum()\n",
    "df_cat"
   ]
  },
  {
   "cell_type": "code",
   "execution_count": 112,
   "metadata": {},
   "outputs": [],
   "source": [
    "import matplotlib.pyplot as plt\n",
    "df_plot=df.groupby('category',as_index=False).agg({'sales':'sum','profit':'sum'})"
   ]
  },
  {
   "cell_type": "code",
   "execution_count": 121,
   "metadata": {},
   "outputs": [
    {
     "data": {
      "text/plain": [
       "<Axes: ylabel='count'>"
      ]
     },
     "execution_count": 121,
     "metadata": {},
     "output_type": "execute_result"
    },
    {
     "data": {
      "image/png": "[encoded data removed]",
      "text/plain": [
       "<Figure size 640x480 with 1 Axes>"
      ]
     },
     "metadata": {},
     "output_type": "display_data"
    }
   ],
   "source": [
    "df.category.value_counts().plot(kind='pie')"
   ]
  },
  {
   "cell_type": "code",
   "execution_count": 132,
   "metadata": {},
   "outputs": [
    {
     "data": {
      "text/plain": [
       "<BarContainer object of 3 artists>"
      ]
     },
     "execution_count": 132,
     "metadata": {},
     "output_type": "execute_result"
    },
    {
     "data": {
      "image/png": "[encoded data removed]",
      "text/plain": [
       "<Figure size 640x480 with 1 Axes>"
      ]
     },
     "metadata": {},
     "output_type": "display_data"
    }
   ],
   "source": [
    "plt.bar(df_plot.category,df_plot.sales)"
   ]
  },
  {
   "cell_type": "code",
   "execution_count": 143,
   "metadata": {},
   "outputs": [
    {
     "data": {
      "text/plain": [
       "<BarContainer object of 3 artists>"
      ]
     },
     "execution_count": 143,
     "metadata": {},
     "output_type": "execute_result"
    },
    {
     "data": {
      "image/png": "[encoded data removed]",
      "text/plain": [
       "<Figure size 640x480 with 1 Axes>"
      ]
     },
     "metadata": {},
     "output_type": "display_data"
    }
   ],
   "source": [
    "plt.barh(df_plot.category,df_plot.sales)"
   ]
  },
  {
   "cell_type": "code",
   "execution_count": 276,
   "metadata": {},
   "outputs": [
    {
     "data": {
      "text/plain": [
       "<Axes: xlabel='order_month,order_month_name'>"
      ]
     },
     "execution_count": 276,
     "metadata": {},
     "output_type": "execute_result"
    },
    {
     "data": {
      "image/png": "[encoded data removed]",
      "text/plain": [
       "<Figure size 640x480 with 1 Axes>"
      ]
     },
     "metadata": {},
     "output_type": "display_data"
    }
   ],
   "source": [
    "import pandas as pd\n",
    "df['order_date']=pd.to_datetime(df['order_date'])\n",
    "df['order_month']=pd.to_datetime(df['order_date'],format='%B').dt.month\n",
    "df['order_month_name']=df['order_date'].dt.strftime('%B')\n",
    "df_pivot=df.pivot_table(index=['order_month','order_month_name'],columns='category',values='sales',aggfunc='sum')\n",
    "df"
   ]
  },
  {
   "cell_type": "code",
   "execution_count": 302,
   "metadata": {},
   "outputs": [
    {
     "data": {
      "image/png": "[encoded data removed]",
      "text/plain": [
       "<Figure size 640x480 with 1 Axes>"
      ]
     },
     "metadata": {},
     "output_type": "display_data"
    }
   ],
   "source": [
    "df_pivot=df.pivot_table(index=['order_month','order_month_name'],columns='category',values='sales',aggfunc='sum')\n",
    "df_pivot.plot(kind='line')\n",
    "plt.title('Monthly category sales')\n",
    "plt.xlabel('Month')\n",
    "plt.ylabel('sales')\n",
    "plt.legend()\n",
    "plt.show()"
   ]
  },
  {
   "cell_type": "code",
   "execution_count": 303,
   "metadata": {},
   "outputs": [
    {
     "data": {
      "text/html": [
       "<div>\n",
       "<style scoped>\n",
       "    .dataframe tbody tr th:only-of-type {\n",
       "        vertical-align: middle;\n",
       "    }\n",
       "\n",
       "    .dataframe tbody tr th {\n",
       "        vertical-align: top;\n",
       "    }\n",
       "\n",
       "    .dataframe thead th {\n",
       "        text-align: right;\n",
       "    }\n",
       "</style>\n",
       "<table border=\"1\" class=\"dataframe\">\n",
       "  <thead>\n",
       "    <tr style=\"text-align: right;\">\n",
       "      <th></th>\n",
       "      <th>category</th>\n",
       "      <th>Furniture</th>\n",
       "      <th>Office Supplies</th>\n",
       "      <th>Technology</th>\n",
       "    </tr>\n",
       "    <tr>\n",
       "      <th>order_month</th>\n",
       "      <th>order_month_name</th>\n",
       "      <th></th>\n",
       "      <th></th>\n",
       "      <th></th>\n",
       "    </tr>\n",
       "  </thead>\n",
       "  <tbody>\n",
       "    <tr>\n",
       "      <th>1</th>\n",
       "      <th>January</th>\n",
       "      <td>29137.8036</td>\n",
       "      <td>6670.365</td>\n",
       "      <td>6291.090</td>\n",
       "    </tr>\n",
       "    <tr>\n",
       "      <th>2</th>\n",
       "      <th>February</th>\n",
       "      <td>12355.8214</td>\n",
       "      <td>11907.247</td>\n",
       "      <td>3981.234</td>\n",
       "    </tr>\n",
       "    <tr>\n",
       "      <th>3</th>\n",
       "      <th>March</th>\n",
       "      <td>42720.6218</td>\n",
       "      <td>18463.361</td>\n",
       "      <td>7571.044</td>\n",
       "    </tr>\n",
       "    <tr>\n",
       "      <th>4</th>\n",
       "      <th>April</th>\n",
       "      <td>34584.6491</td>\n",
       "      <td>17294.624</td>\n",
       "      <td>9088.770</td>\n",
       "    </tr>\n",
       "    <tr>\n",
       "      <th>5</th>\n",
       "      <th>May</th>\n",
       "      <td>43540.0327</td>\n",
       "      <td>18310.199</td>\n",
       "      <td>19945.452</td>\n",
       "    </tr>\n",
       "    <tr>\n",
       "      <th>6</th>\n",
       "      <th>June</th>\n",
       "      <td>48305.8333</td>\n",
       "      <td>23115.613</td>\n",
       "      <td>10781.253</td>\n",
       "    </tr>\n",
       "    <tr>\n",
       "      <th>7</th>\n",
       "      <th>July</th>\n",
       "      <td>41850.8880</td>\n",
       "      <td>10278.014</td>\n",
       "      <td>15374.045</td>\n",
       "    </tr>\n",
       "    <tr>\n",
       "      <th>8</th>\n",
       "      <th>August</th>\n",
       "      <td>41858.2370</td>\n",
       "      <td>28049.223</td>\n",
       "      <td>10727.620</td>\n",
       "    </tr>\n",
       "    <tr>\n",
       "      <th>9</th>\n",
       "      <th>September</th>\n",
       "      <td>87372.4417</td>\n",
       "      <td>36643.131</td>\n",
       "      <td>22329.438</td>\n",
       "    </tr>\n",
       "    <tr>\n",
       "      <th>10</th>\n",
       "      <th>October</th>\n",
       "      <td>48831.4257</td>\n",
       "      <td>28150.571</td>\n",
       "      <td>17615.755</td>\n",
       "    </tr>\n",
       "    <tr>\n",
       "      <th>11</th>\n",
       "      <th>November</th>\n",
       "      <td>103025.8860</td>\n",
       "      <td>42050.456</td>\n",
       "      <td>35055.833</td>\n",
       "    </tr>\n",
       "    <tr>\n",
       "      <th>12</th>\n",
       "      <th>December</th>\n",
       "      <td>94775.6645</td>\n",
       "      <td>57663.948</td>\n",
       "      <td>21875.314</td>\n",
       "    </tr>\n",
       "  </tbody>\n",
       "</table>\n",
       "</div>"
      ],
      "text/plain": [
       "category                        Furniture  Office Supplies  Technology\n",
       "order_month order_month_name                                          \n",
       "1           January            29137.8036         6670.365    6291.090\n",
       "2           February           12355.8214        11907.247    3981.234\n",
       "3           March              42720.6218        18463.361    7571.044\n",
       "4           April              34584.6491        17294.624    9088.770\n",
       "5           May                43540.0327        18310.199   19945.452\n",
       "6           June               48305.8333        23115.613   10781.253\n",
       "7           July               41850.8880        10278.014   15374.045\n",
       "8           August             41858.2370        28049.223   10727.620\n",
       "9           September          87372.4417        36643.131   22329.438\n",
       "10          October            48831.4257        28150.571   17615.755\n",
       "11          November          103025.8860        42050.456   35055.833\n",
       "12          December           94775.6645        57663.948   21875.314"
      ]
     },
     "execution_count": 303,
     "metadata": {},
     "output_type": "execute_result"
    }
   ],
   "source": [
    "df_pivot"
   ]
  },
  {
   "cell_type": "code",
   "execution_count": 253,
   "metadata": {},
   "outputs": [
    {
     "ename": "TypeError",
     "evalue": "bar() missing 1 required positional argument: 'height'",
     "output_type": "error",
     "traceback": [
      "\u001b[1;31m---------------------------------------------------------------------------\u001b[0m",
      "\u001b[1;31mTypeError\u001b[0m                                 Traceback (most recent call last)",
      "Cell \u001b[1;32mIn[253], line 2\u001b[0m\n\u001b[0;32m      1\u001b[0m \u001b[39mimport\u001b[39;00m \u001b[39mmatplotlib\u001b[39;00m\u001b[39m.\u001b[39;00m\u001b[39mpyplot\u001b[39;00m \u001b[39mas\u001b[39;00m \u001b[39mplt\u001b[39;00m\n\u001b[1;32m----> 2\u001b[0m plt\u001b[39m.\u001b[39;49mbar(x\u001b[39m=\u001b[39;49mdf_pivot\u001b[39m.\u001b[39;49mcity)\n",
      "\u001b[1;31mTypeError\u001b[0m: bar() missing 1 required positional argument: 'height'"
     ]
    }
   ],
   "source": [
    "import matplotlib.pyplot as plt\n",
    "plt.bar(x=df_pivot.city)"
   ]
  },
  {
   "cell_type": "code",
   "execution_count": 187,
   "metadata": {},
   "outputs": [
    {
     "data": {
      "text/plain": [
       "0       True\n",
       "1      False\n",
       "2      False\n",
       "3      False\n",
       "4      False\n",
       "       ...  \n",
       "112     True\n",
       "113     True\n",
       "114    False\n",
       "115    False\n",
       "116    False\n",
       "Name: city, Length: 117, dtype: bool"
      ]
     },
     "execution_count": 187,
     "metadata": {},
     "output_type": "execute_result"
    }
   ],
   "source": [
    "df_pivot.dropna(inplace=True)\n",
    "df_pivot"
   ]
  },
  {
   "cell_type": "code",
   "execution_count": 180,
   "metadata": {},
   "outputs": [],
   "source": [
    "df_pivot.reset_index(inplace=True)"
   ]
  },
  {
   "cell_type": "code",
   "execution_count": 194,
   "metadata": {},
   "outputs": [
    {
     "data": {
      "text/html": [
       "<div>\n",
       "<style scoped>\n",
       "    .dataframe tbody tr th:only-of-type {\n",
       "        vertical-align: middle;\n",
       "    }\n",
       "\n",
       "    .dataframe tbody tr th {\n",
       "        vertical-align: top;\n",
       "    }\n",
       "\n",
       "    .dataframe thead th {\n",
       "        text-align: right;\n",
       "    }\n",
       "</style>\n",
       "<table border=\"1\" class=\"dataframe\">\n",
       "  <thead>\n",
       "    <tr style=\"text-align: right;\">\n",
       "      <th></th>\n",
       "      <th>order_id</th>\n",
       "      <th>order_date</th>\n",
       "      <th>customer_name</th>\n",
       "      <th>city</th>\n",
       "      <th>category</th>\n",
       "      <th>product_id</th>\n",
       "      <th>sales</th>\n",
       "      <th>profit</th>\n",
       "    </tr>\n",
       "  </thead>\n",
       "  <tbody>\n",
       "    <tr>\n",
       "      <th>0</th>\n",
       "      <td>CA-2018-100006</td>\n",
       "      <td>2018-09-07</td>\n",
       "      <td>Dennis Kane</td>\n",
       "      <td>New York City</td>\n",
       "      <td>Technology</td>\n",
       "      <td>TEC-PH-10002075</td>\n",
       "      <td>377.970</td>\n",
       "      <td>109.6113</td>\n",
       "    </tr>\n",
       "    <tr>\n",
       "      <th>1</th>\n",
       "      <td>CA-2018-100090</td>\n",
       "      <td>2018-07-08</td>\n",
       "      <td>Ed Braxton</td>\n",
       "      <td>San Francisco</td>\n",
       "      <td>Furniture</td>\n",
       "      <td>FUR-TA-10003715</td>\n",
       "      <td>502.488</td>\n",
       "      <td>-87.9354</td>\n",
       "    </tr>\n",
       "    <tr>\n",
       "      <th>2</th>\n",
       "      <td>CA-2018-100293</td>\n",
       "      <td>2018-03-14</td>\n",
       "      <td>Neil Französisch</td>\n",
       "      <td>Jacksonville</td>\n",
       "      <td>Office Supplies</td>\n",
       "      <td>OFF-PA-10000176</td>\n",
       "      <td>91.056</td>\n",
       "      <td>31.8696</td>\n",
       "    </tr>\n",
       "    <tr>\n",
       "      <th>3</th>\n",
       "      <td>CA-2018-100328</td>\n",
       "      <td>2018-01-28</td>\n",
       "      <td>Jasper Cacioppo</td>\n",
       "      <td>New York City</td>\n",
       "      <td>Office Supplies</td>\n",
       "      <td>OFF-BI-10000343</td>\n",
       "      <td>3.928</td>\n",
       "      <td>1.3257</td>\n",
       "    </tr>\n",
       "    <tr>\n",
       "      <th>4</th>\n",
       "      <td>CA-2018-100363</td>\n",
       "      <td>2018-04-08</td>\n",
       "      <td>Jim Mitchum</td>\n",
       "      <td>Glendale</td>\n",
       "      <td>Office Supplies</td>\n",
       "      <td>OFF-FA-10000611</td>\n",
       "      <td>2.368</td>\n",
       "      <td>0.8288</td>\n",
       "    </tr>\n",
       "    <tr>\n",
       "      <th>...</th>\n",
       "      <td>...</td>\n",
       "      <td>...</td>\n",
       "      <td>...</td>\n",
       "      <td>...</td>\n",
       "      <td>...</td>\n",
       "      <td>...</td>\n",
       "      <td>...</td>\n",
       "      <td>...</td>\n",
       "    </tr>\n",
       "    <tr>\n",
       "      <th>5004</th>\n",
       "      <td>US-2021-168802</td>\n",
       "      <td>2021-11-03</td>\n",
       "      <td>Jack O'Briant</td>\n",
       "      <td>Seattle</td>\n",
       "      <td>Office Supplies</td>\n",
       "      <td>OFF-BI-10002393</td>\n",
       "      <td>18.368</td>\n",
       "      <td>5.9696</td>\n",
       "    </tr>\n",
       "    <tr>\n",
       "      <th>5005</th>\n",
       "      <td>US-2021-169320</td>\n",
       "      <td>2021-07-23</td>\n",
       "      <td>Lena Hernandez</td>\n",
       "      <td>Elkhart</td>\n",
       "      <td>Office Supplies</td>\n",
       "      <td>OFF-AR-10003602</td>\n",
       "      <td>11.680</td>\n",
       "      <td>5.4896</td>\n",
       "    </tr>\n",
       "    <tr>\n",
       "      <th>5006</th>\n",
       "      <td>US-2021-169488</td>\n",
       "      <td>2021-09-07</td>\n",
       "      <td>Allen Armold</td>\n",
       "      <td>Providence</td>\n",
       "      <td>Office Supplies</td>\n",
       "      <td>OFF-PA-10000157</td>\n",
       "      <td>39.960</td>\n",
       "      <td>18.7812</td>\n",
       "    </tr>\n",
       "    <tr>\n",
       "      <th>5007</th>\n",
       "      <td>US-2021-169502</td>\n",
       "      <td>2021-08-28</td>\n",
       "      <td>Matthew Grinstein</td>\n",
       "      <td>Milwaukee</td>\n",
       "      <td>Office Supplies</td>\n",
       "      <td>OFF-AP-10001947</td>\n",
       "      <td>91.600</td>\n",
       "      <td>26.5640</td>\n",
       "    </tr>\n",
       "    <tr>\n",
       "      <th>5008</th>\n",
       "      <td>US-2021-169551</td>\n",
       "      <td>2021-07-07</td>\n",
       "      <td>Rob Lucas</td>\n",
       "      <td>Philadelphia</td>\n",
       "      <td>Furniture</td>\n",
       "      <td>FUR-BO-10001519</td>\n",
       "      <td>87.210</td>\n",
       "      <td>-45.3492</td>\n",
       "    </tr>\n",
       "  </tbody>\n",
       "</table>\n",
       "<p>5009 rows × 8 columns</p>\n",
       "</div>"
      ],
      "text/plain": [
       "            order_id  order_date      customer_name           city  \\\n",
       "0     CA-2018-100006  2018-09-07        Dennis Kane  New York City   \n",
       "1     CA-2018-100090  2018-07-08         Ed Braxton  San Francisco   \n",
       "2     CA-2018-100293  2018-03-14   Neil Französisch   Jacksonville   \n",
       "3     CA-2018-100328  2018-01-28    Jasper Cacioppo  New York City   \n",
       "4     CA-2018-100363  2018-04-08        Jim Mitchum       Glendale   \n",
       "...              ...         ...                ...            ...   \n",
       "5004  US-2021-168802  2021-11-03      Jack O'Briant        Seattle   \n",
       "5005  US-2021-169320  2021-07-23     Lena Hernandez        Elkhart   \n",
       "5006  US-2021-169488  2021-09-07       Allen Armold     Providence   \n",
       "5007  US-2021-169502  2021-08-28  Matthew Grinstein      Milwaukee   \n",
       "5008  US-2021-169551  2021-07-07          Rob Lucas   Philadelphia   \n",
       "\n",
       "             category       product_id    sales    profit  \n",
       "0          Technology  TEC-PH-10002075  377.970  109.6113  \n",
       "1           Furniture  FUR-TA-10003715  502.488  -87.9354  \n",
       "2     Office Supplies  OFF-PA-10000176   91.056   31.8696  \n",
       "3     Office Supplies  OFF-BI-10000343    3.928    1.3257  \n",
       "4     Office Supplies  OFF-FA-10000611    2.368    0.8288  \n",
       "...               ...              ...      ...       ...  \n",
       "5004  Office Supplies  OFF-BI-10002393   18.368    5.9696  \n",
       "5005  Office Supplies  OFF-AR-10003602   11.680    5.4896  \n",
       "5006  Office Supplies  OFF-PA-10000157   39.960   18.7812  \n",
       "5007  Office Supplies  OFF-AP-10001947   91.600   26.5640  \n",
       "5008        Furniture  FUR-BO-10001519   87.210  -45.3492  \n",
       "\n",
       "[5009 rows x 8 columns]"
      ]
     },
     "execution_count": 194,
     "metadata": {},
     "output_type": "execute_result"
    }
   ],
   "source": [
    "df"
   ]
  },
  {
   "cell_type": "code",
   "execution_count": 305,
   "metadata": {},
   "outputs": [
    {
     "data": {
      "text/html": [
       "<div>\n",
       "<style scoped>\n",
       "    .dataframe tbody tr th:only-of-type {\n",
       "        vertical-align: middle;\n",
       "    }\n",
       "\n",
       "    .dataframe tbody tr th {\n",
       "        vertical-align: top;\n",
       "    }\n",
       "\n",
       "    .dataframe thead th {\n",
       "        text-align: right;\n",
       "    }\n",
       "</style>\n",
       "<table border=\"1\" class=\"dataframe\">\n",
       "  <thead>\n",
       "    <tr style=\"text-align: right;\">\n",
       "      <th></th>\n",
       "      <th>name</th>\n",
       "      <th>gender</th>\n",
       "      <th>mail</th>\n",
       "    </tr>\n",
       "  </thead>\n",
       "  <tbody>\n",
       "    <tr>\n",
       "      <th>0</th>\n",
       "      <td>ankit</td>\n",
       "      <td>male</td>\n",
       "      <td>ankit@gmail.com</td>\n",
       "    </tr>\n",
       "    <tr>\n",
       "      <th>1</th>\n",
       "      <td>boss</td>\n",
       "      <td>male</td>\n",
       "      <td>boss@gmail.com</td>\n",
       "    </tr>\n",
       "    <tr>\n",
       "      <th>2</th>\n",
       "      <td>preeti</td>\n",
       "      <td>female</td>\n",
       "      <td>preeti@gmail.com</td>\n",
       "    </tr>\n",
       "    <tr>\n",
       "      <th>3</th>\n",
       "      <td>ankit</td>\n",
       "      <td>male</td>\n",
       "      <td>NaN</td>\n",
       "    </tr>\n",
       "    <tr>\n",
       "      <th>4</th>\n",
       "      <td>boss</td>\n",
       "      <td>male</td>\n",
       "      <td>NaN</td>\n",
       "    </tr>\n",
       "    <tr>\n",
       "      <th>5</th>\n",
       "      <td>xxxx</td>\n",
       "      <td>female</td>\n",
       "      <td>preeti@gmail.com</td>\n",
       "    </tr>\n",
       "  </tbody>\n",
       "</table>\n",
       "</div>"
      ],
      "text/plain": [
       "     name  gender              mail\n",
       "0   ankit    male   ankit@gmail.com\n",
       "1    boss    male    boss@gmail.com\n",
       "2  preeti  female  preeti@gmail.com\n",
       "3   ankit    male               NaN\n",
       "4    boss    male               NaN\n",
       "5    xxxx  female  preeti@gmail.com"
      ]
     },
     "execution_count": 305,
     "metadata": {},
     "output_type": "execute_result"
    }
   ],
   "source": [
    "import numpy as np\n",
    "emp={\"name\":[\"ankit\",\"boss\",\"preeti\"],\"gender\":[\"male\",\"male\",\"female\"],\"mail\":[\"ankit@gmail.com\",\"boss@gmail.com\",\"preeti@gmail.com\"]} \n",
    "df1=pd.DataFrame(emp)\n",
    "emp={\"name\":[\"ankit\",\"boss\",\"xxxx\"],\"gender\":[\"male\",\"male\",\"female\"],\"mail\":[np.nan,np.nan,\"preeti@gmail.com\"]} \n",
    "#emp={\"name\":[\"saddsf\",\"dfdsf\"],\"gender\":[\"male\",\"male\"],\"mail\":[\"dfdf@gmail.com\",\"dfdf@gmail.com\"]} \n",
    "df2=pd.DataFrame(emp)\n",
    "df=pd.concat([df1,df2],ignore_index=True)\n",
    "df"
   ]
  },
  {
   "cell_type": "code",
   "execution_count": 211,
   "metadata": {},
   "outputs": [
    {
     "data": {
      "text/html": [
       "<div>\n",
       "<style scoped>\n",
       "    .dataframe tbody tr th:only-of-type {\n",
       "        vertical-align: middle;\n",
       "    }\n",
       "\n",
       "    .dataframe tbody tr th {\n",
       "        vertical-align: top;\n",
       "    }\n",
       "\n",
       "    .dataframe thead th {\n",
       "        text-align: right;\n",
       "    }\n",
       "</style>\n",
       "<table border=\"1\" class=\"dataframe\">\n",
       "  <thead>\n",
       "    <tr style=\"text-align: right;\">\n",
       "      <th></th>\n",
       "      <th>name</th>\n",
       "      <th>gender</th>\n",
       "      <th>mail</th>\n",
       "    </tr>\n",
       "  </thead>\n",
       "  <tbody>\n",
       "    <tr>\n",
       "      <th>0</th>\n",
       "      <td>ankit</td>\n",
       "      <td>male</td>\n",
       "      <td>ankit@gmail.com</td>\n",
       "    </tr>\n",
       "    <tr>\n",
       "      <th>1</th>\n",
       "      <td>boss</td>\n",
       "      <td>male</td>\n",
       "      <td>boss@gmail.com</td>\n",
       "    </tr>\n",
       "    <tr>\n",
       "      <th>2</th>\n",
       "      <td>preeti</td>\n",
       "      <td>female</td>\n",
       "      <td>preeti@gmail.com</td>\n",
       "    </tr>\n",
       "    <tr>\n",
       "      <th>3</th>\n",
       "      <td>ankit</td>\n",
       "      <td>male</td>\n",
       "      <td>NaN</td>\n",
       "    </tr>\n",
       "    <tr>\n",
       "      <th>4</th>\n",
       "      <td>boss</td>\n",
       "      <td>male</td>\n",
       "      <td>NaN</td>\n",
       "    </tr>\n",
       "    <tr>\n",
       "      <th>5</th>\n",
       "      <td>xxxx</td>\n",
       "      <td>female</td>\n",
       "      <td>preeti@gmail.com</td>\n",
       "    </tr>\n",
       "  </tbody>\n",
       "</table>\n",
       "</div>"
      ],
      "text/plain": [
       "     name  gender              mail\n",
       "0   ankit    male   ankit@gmail.com\n",
       "1    boss    male    boss@gmail.com\n",
       "2  preeti  female  preeti@gmail.com\n",
       "3   ankit    male               NaN\n",
       "4    boss    male               NaN\n",
       "5    xxxx  female  preeti@gmail.com"
      ]
     },
     "execution_count": 211,
     "metadata": {},
     "output_type": "execute_result"
    }
   ],
   "source": [
    "df.dropna(subset='mail')\n",
    "df"
   ]
  },
  {
   "cell_type": "code",
   "execution_count": 218,
   "metadata": {},
   "outputs": [
    {
     "data": {
      "text/html": [
       "<div>\n",
       "<style scoped>\n",
       "    .dataframe tbody tr th:only-of-type {\n",
       "        vertical-align: middle;\n",
       "    }\n",
       "\n",
       "    .dataframe tbody tr th {\n",
       "        vertical-align: top;\n",
       "    }\n",
       "\n",
       "    .dataframe thead th {\n",
       "        text-align: right;\n",
       "    }\n",
       "</style>\n",
       "<table border=\"1\" class=\"dataframe\">\n",
       "  <thead>\n",
       "    <tr style=\"text-align: right;\">\n",
       "      <th></th>\n",
       "      <th>name</th>\n",
       "      <th>gender</th>\n",
       "      <th>mail</th>\n",
       "    </tr>\n",
       "  </thead>\n",
       "  <tbody>\n",
       "    <tr>\n",
       "      <th>0</th>\n",
       "      <td>ankit</td>\n",
       "      <td>male</td>\n",
       "      <td>ankit@gmail.com</td>\n",
       "    </tr>\n",
       "    <tr>\n",
       "      <th>1</th>\n",
       "      <td>boss</td>\n",
       "      <td>male</td>\n",
       "      <td>boss@gmail.com</td>\n",
       "    </tr>\n",
       "    <tr>\n",
       "      <th>2</th>\n",
       "      <td>preeti</td>\n",
       "      <td>female</td>\n",
       "      <td>preeti@gmail.com</td>\n",
       "    </tr>\n",
       "    <tr>\n",
       "      <th>3</th>\n",
       "      <td>ankit</td>\n",
       "      <td>male</td>\n",
       "      <td>NaN</td>\n",
       "    </tr>\n",
       "    <tr>\n",
       "      <th>4</th>\n",
       "      <td>boss</td>\n",
       "      <td>male</td>\n",
       "      <td>NaN</td>\n",
       "    </tr>\n",
       "    <tr>\n",
       "      <th>5</th>\n",
       "      <td>preeti</td>\n",
       "      <td>female</td>\n",
       "      <td>preeti@gmail.com</td>\n",
       "    </tr>\n",
       "  </tbody>\n",
       "</table>\n",
       "</div>"
      ],
      "text/plain": [
       "     name  gender              mail\n",
       "0   ankit    male   ankit@gmail.com\n",
       "1    boss    male    boss@gmail.com\n",
       "2  preeti  female  preeti@gmail.com\n",
       "3   ankit    male               NaN\n",
       "4    boss    male               NaN\n",
       "5  preeti  female  preeti@gmail.com"
      ]
     },
     "execution_count": 218,
     "metadata": {},
     "output_type": "execute_result"
    }
   ],
   "source": [
    "df.drop_duplicates(subset='mail')\n",
    "df.loc[df.name=='xxxx','name']='preeti'\n",
    "df"
   ]
  },
  {
   "cell_type": "code",
   "execution_count": 215,
   "metadata": {},
   "outputs": [
    {
     "data": {
      "text/html": [
       "<div>\n",
       "<style scoped>\n",
       "    .dataframe tbody tr th:only-of-type {\n",
       "        vertical-align: middle;\n",
       "    }\n",
       "\n",
       "    .dataframe tbody tr th {\n",
       "        vertical-align: top;\n",
       "    }\n",
       "\n",
       "    .dataframe thead th {\n",
       "        text-align: right;\n",
       "    }\n",
       "</style>\n",
       "<table border=\"1\" class=\"dataframe\">\n",
       "  <thead>\n",
       "    <tr style=\"text-align: right;\">\n",
       "      <th></th>\n",
       "      <th>name</th>\n",
       "      <th>gender</th>\n",
       "      <th>mail</th>\n",
       "    </tr>\n",
       "  </thead>\n",
       "  <tbody>\n",
       "    <tr>\n",
       "      <th>0</th>\n",
       "      <td>ankit</td>\n",
       "      <td>male</td>\n",
       "      <td>ankit@gmail.com</td>\n",
       "    </tr>\n",
       "    <tr>\n",
       "      <th>1</th>\n",
       "      <td>boss</td>\n",
       "      <td>male</td>\n",
       "      <td>boss@gmail.com</td>\n",
       "    </tr>\n",
       "    <tr>\n",
       "      <th>2</th>\n",
       "      <td>preeti</td>\n",
       "      <td>female</td>\n",
       "      <td>preeti@gmail.com</td>\n",
       "    </tr>\n",
       "    <tr>\n",
       "      <th>3</th>\n",
       "      <td>ankit</td>\n",
       "      <td>male</td>\n",
       "      <td>NaN</td>\n",
       "    </tr>\n",
       "    <tr>\n",
       "      <th>4</th>\n",
       "      <td>boss</td>\n",
       "      <td>male</td>\n",
       "      <td>NaN</td>\n",
       "    </tr>\n",
       "    <tr>\n",
       "      <th>5</th>\n",
       "      <td>xxxx</td>\n",
       "      <td>female</td>\n",
       "      <td>preeti@gmail.com</td>\n",
       "    </tr>\n",
       "  </tbody>\n",
       "</table>\n",
       "</div>"
      ],
      "text/plain": [
       "     name  gender              mail\n",
       "0   ankit    male   ankit@gmail.com\n",
       "1    boss    male    boss@gmail.com\n",
       "2  preeti  female  preeti@gmail.com\n",
       "3   ankit    male               NaN\n",
       "4    boss    male               NaN\n",
       "5    xxxx  female  preeti@gmail.com"
      ]
     },
     "execution_count": 215,
     "metadata": {},
     "output_type": "execute_result"
    }
   ],
   "source": [
    "df.drop_duplicates(subset=['mail','name'])"
   ]
  },
  {
   "cell_type": "code",
   "execution_count": 219,
   "metadata": {},
   "outputs": [
    {
     "data": {
      "text/html": [
       "<div>\n",
       "<style scoped>\n",
       "    .dataframe tbody tr th:only-of-type {\n",
       "        vertical-align: middle;\n",
       "    }\n",
       "\n",
       "    .dataframe tbody tr th {\n",
       "        vertical-align: top;\n",
       "    }\n",
       "\n",
       "    .dataframe thead th {\n",
       "        text-align: right;\n",
       "    }\n",
       "</style>\n",
       "<table border=\"1\" class=\"dataframe\">\n",
       "  <thead>\n",
       "    <tr style=\"text-align: right;\">\n",
       "      <th></th>\n",
       "      <th>name</th>\n",
       "      <th>gender</th>\n",
       "      <th>mail</th>\n",
       "    </tr>\n",
       "  </thead>\n",
       "  <tbody>\n",
       "    <tr>\n",
       "      <th>0</th>\n",
       "      <td>ankit</td>\n",
       "      <td>male</td>\n",
       "      <td>ankit@gmail.com</td>\n",
       "    </tr>\n",
       "    <tr>\n",
       "      <th>1</th>\n",
       "      <td>boss</td>\n",
       "      <td>male</td>\n",
       "      <td>boss@gmail.com</td>\n",
       "    </tr>\n",
       "    <tr>\n",
       "      <th>2</th>\n",
       "      <td>preeti</td>\n",
       "      <td>female</td>\n",
       "      <td>preeti@gmail.com</td>\n",
       "    </tr>\n",
       "    <tr>\n",
       "      <th>3</th>\n",
       "      <td>ankit</td>\n",
       "      <td>male</td>\n",
       "      <td>NaN</td>\n",
       "    </tr>\n",
       "    <tr>\n",
       "      <th>4</th>\n",
       "      <td>boss</td>\n",
       "      <td>male</td>\n",
       "      <td>NaN</td>\n",
       "    </tr>\n",
       "  </tbody>\n",
       "</table>\n",
       "</div>"
      ],
      "text/plain": [
       "     name  gender              mail\n",
       "0   ankit    male   ankit@gmail.com\n",
       "1    boss    male    boss@gmail.com\n",
       "2  preeti  female  preeti@gmail.com\n",
       "3   ankit    male               NaN\n",
       "4    boss    male               NaN"
      ]
     },
     "execution_count": 219,
     "metadata": {},
     "output_type": "execute_result"
    }
   ],
   "source": [
    "df.drop_duplicates()"
   ]
  },
  {
   "cell_type": "code",
   "execution_count": 225,
   "metadata": {},
   "outputs": [
    {
     "data": {
      "text/html": [
       "<div>\n",
       "<style scoped>\n",
       "    .dataframe tbody tr th:only-of-type {\n",
       "        vertical-align: middle;\n",
       "    }\n",
       "\n",
       "    .dataframe tbody tr th {\n",
       "        vertical-align: top;\n",
       "    }\n",
       "\n",
       "    .dataframe thead th {\n",
       "        text-align: right;\n",
       "    }\n",
       "</style>\n",
       "<table border=\"1\" class=\"dataframe\">\n",
       "  <thead>\n",
       "    <tr style=\"text-align: right;\">\n",
       "      <th></th>\n",
       "      <th>name</th>\n",
       "      <th>gender</th>\n",
       "      <th>mail</th>\n",
       "    </tr>\n",
       "  </thead>\n",
       "  <tbody>\n",
       "    <tr>\n",
       "      <th>0</th>\n",
       "      <td>ankit</td>\n",
       "      <td>male</td>\n",
       "      <td>ankit@gmail.com</td>\n",
       "    </tr>\n",
       "    <tr>\n",
       "      <th>1</th>\n",
       "      <td>boss</td>\n",
       "      <td>male</td>\n",
       "      <td>boss@gmail.com</td>\n",
       "    </tr>\n",
       "    <tr>\n",
       "      <th>2</th>\n",
       "      <td>preeti</td>\n",
       "      <td>female</td>\n",
       "      <td>preeti@gmail.com</td>\n",
       "    </tr>\n",
       "    <tr>\n",
       "      <th>3</th>\n",
       "      <td>ankit</td>\n",
       "      <td>male</td>\n",
       "      <td>NaN</td>\n",
       "    </tr>\n",
       "    <tr>\n",
       "      <th>4</th>\n",
       "      <td>boss</td>\n",
       "      <td>male</td>\n",
       "      <td>NaN</td>\n",
       "    </tr>\n",
       "    <tr>\n",
       "      <th>5</th>\n",
       "      <td>preeti</td>\n",
       "      <td>female</td>\n",
       "      <td>preeti@gmail.com</td>\n",
       "    </tr>\n",
       "  </tbody>\n",
       "</table>\n",
       "</div>"
      ],
      "text/plain": [
       "     name  gender              mail\n",
       "0   ankit    male   ankit@gmail.com\n",
       "1    boss    male    boss@gmail.com\n",
       "2  preeti  female  preeti@gmail.com\n",
       "3   ankit    male               NaN\n",
       "4    boss    male               NaN\n",
       "5  preeti  female  preeti@gmail.com"
      ]
     },
     "execution_count": 225,
     "metadata": {},
     "output_type": "execute_result"
    }
   ],
   "source": [
    "df.drop(df[df.mail.isna()].index)\n",
    "df"
   ]
  },
  {
   "cell_type": "code",
   "execution_count": 227,
   "metadata": {},
   "outputs": [
    {
     "data": {
      "text/html": [
       "<div>\n",
       "<style scoped>\n",
       "    .dataframe tbody tr th:only-of-type {\n",
       "        vertical-align: middle;\n",
       "    }\n",
       "\n",
       "    .dataframe tbody tr th {\n",
       "        vertical-align: top;\n",
       "    }\n",
       "\n",
       "    .dataframe thead th {\n",
       "        text-align: right;\n",
       "    }\n",
       "</style>\n",
       "<table border=\"1\" class=\"dataframe\">\n",
       "  <thead>\n",
       "    <tr style=\"text-align: right;\">\n",
       "      <th></th>\n",
       "      <th>name</th>\n",
       "      <th>gender</th>\n",
       "      <th>mail</th>\n",
       "    </tr>\n",
       "  </thead>\n",
       "  <tbody>\n",
       "    <tr>\n",
       "      <th>0</th>\n",
       "      <td>ankit</td>\n",
       "      <td>male</td>\n",
       "      <td>ankit@gmail.com</td>\n",
       "    </tr>\n",
       "    <tr>\n",
       "      <th>1</th>\n",
       "      <td>boss</td>\n",
       "      <td>male</td>\n",
       "      <td>boss@gmail.com</td>\n",
       "    </tr>\n",
       "    <tr>\n",
       "      <th>2</th>\n",
       "      <td>preeti</td>\n",
       "      <td>female</td>\n",
       "      <td>preeti@gmail.com</td>\n",
       "    </tr>\n",
       "    <tr>\n",
       "      <th>3</th>\n",
       "      <td>ankit</td>\n",
       "      <td>male</td>\n",
       "      <td>NaN</td>\n",
       "    </tr>\n",
       "    <tr>\n",
       "      <th>4</th>\n",
       "      <td>boss</td>\n",
       "      <td>male</td>\n",
       "      <td>NaN</td>\n",
       "    </tr>\n",
       "    <tr>\n",
       "      <th>5</th>\n",
       "      <td>preeti</td>\n",
       "      <td>female</td>\n",
       "      <td>preeti@gmail.com</td>\n",
       "    </tr>\n",
       "  </tbody>\n",
       "</table>\n",
       "</div>"
      ],
      "text/plain": [
       "     name  gender              mail\n",
       "0   ankit    male   ankit@gmail.com\n",
       "1    boss    male    boss@gmail.com\n",
       "2  preeti  female  preeti@gmail.com\n",
       "3   ankit    male               NaN\n",
       "4    boss    male               NaN\n",
       "5  preeti  female  preeti@gmail.com"
      ]
     },
     "execution_count": 227,
     "metadata": {},
     "output_type": "execute_result"
    }
   ],
   "source": [
    "df.mail.fillna('abc@gmail.com')\n",
    "df"
   ]
  },
  {
   "cell_type": "code",
   "execution_count": 230,
   "metadata": {},
   "outputs": [
    {
     "data": {
      "text/html": [
       "<div>\n",
       "<style scoped>\n",
       "    .dataframe tbody tr th:only-of-type {\n",
       "        vertical-align: middle;\n",
       "    }\n",
       "\n",
       "    .dataframe tbody tr th {\n",
       "        vertical-align: top;\n",
       "    }\n",
       "\n",
       "    .dataframe thead th {\n",
       "        text-align: right;\n",
       "    }\n",
       "</style>\n",
       "<table border=\"1\" class=\"dataframe\">\n",
       "  <thead>\n",
       "    <tr style=\"text-align: right;\">\n",
       "      <th></th>\n",
       "      <th>name</th>\n",
       "      <th>gender</th>\n",
       "      <th>mail</th>\n",
       "    </tr>\n",
       "  </thead>\n",
       "  <tbody>\n",
       "    <tr>\n",
       "      <th>0</th>\n",
       "      <td>ankit</td>\n",
       "      <td>male</td>\n",
       "      <td>ankit@gmail.com</td>\n",
       "    </tr>\n",
       "    <tr>\n",
       "      <th>1</th>\n",
       "      <td>boss</td>\n",
       "      <td>male</td>\n",
       "      <td>boss@gmail.com</td>\n",
       "    </tr>\n",
       "    <tr>\n",
       "      <th>2</th>\n",
       "      <td>preeti</td>\n",
       "      <td>female</td>\n",
       "      <td>preeti@gmail.com</td>\n",
       "    </tr>\n",
       "    <tr>\n",
       "      <th>3</th>\n",
       "      <td>ankit</td>\n",
       "      <td>male</td>\n",
       "      <td>NaN</td>\n",
       "    </tr>\n",
       "    <tr>\n",
       "      <th>4</th>\n",
       "      <td>boss</td>\n",
       "      <td>male</td>\n",
       "      <td>NaN</td>\n",
       "    </tr>\n",
       "    <tr>\n",
       "      <th>5</th>\n",
       "      <td>preeti</td>\n",
       "      <td>female</td>\n",
       "      <td>preeti@gmail.com</td>\n",
       "    </tr>\n",
       "  </tbody>\n",
       "</table>\n",
       "</div>"
      ],
      "text/plain": [
       "     name  gender              mail\n",
       "0   ankit    male   ankit@gmail.com\n",
       "1    boss    male    boss@gmail.com\n",
       "2  preeti  female  preeti@gmail.com\n",
       "3   ankit    male               NaN\n",
       "4    boss    male               NaN\n",
       "5  preeti  female  preeti@gmail.com"
      ]
     },
     "execution_count": 230,
     "metadata": {},
     "output_type": "execute_result"
    }
   ],
   "source": [
    "df.dropna(how='any',axis=1)\n",
    "df"
   ]
  },
  {
   "cell_type": "code",
   "execution_count": 307,
   "metadata": {},
   "outputs": [
    {
     "data": {
      "text/html": [
       "<div>\n",
       "<style scoped>\n",
       "    .dataframe tbody tr th:only-of-type {\n",
       "        vertical-align: middle;\n",
       "    }\n",
       "\n",
       "    .dataframe tbody tr th {\n",
       "        vertical-align: top;\n",
       "    }\n",
       "\n",
       "    .dataframe thead th {\n",
       "        text-align: right;\n",
       "    }\n",
       "</style>\n",
       "<table border=\"1\" class=\"dataframe\">\n",
       "  <thead>\n",
       "    <tr style=\"text-align: right;\">\n",
       "      <th></th>\n",
       "      <th>name</th>\n",
       "      <th>gender</th>\n",
       "      <th>mail</th>\n",
       "    </tr>\n",
       "  </thead>\n",
       "  <tbody>\n",
       "    <tr>\n",
       "      <th>0</th>\n",
       "      <td>ankit</td>\n",
       "      <td>male</td>\n",
       "      <td>ankit@gmail.com</td>\n",
       "    </tr>\n",
       "    <tr>\n",
       "      <th>1</th>\n",
       "      <td>boss</td>\n",
       "      <td>male</td>\n",
       "      <td>boss@gmail.com</td>\n",
       "    </tr>\n",
       "    <tr>\n",
       "      <th>2</th>\n",
       "      <td>preeti</td>\n",
       "      <td>female</td>\n",
       "      <td>preeti@gmail.com</td>\n",
       "    </tr>\n",
       "    <tr>\n",
       "      <th>5</th>\n",
       "      <td>xxxx</td>\n",
       "      <td>female</td>\n",
       "      <td>preeti@gmail.com</td>\n",
       "    </tr>\n",
       "  </tbody>\n",
       "</table>\n",
       "</div>"
      ],
      "text/plain": [
       "     name  gender              mail\n",
       "0   ankit    male   ankit@gmail.com\n",
       "1    boss    male    boss@gmail.com\n",
       "2  preeti  female  preeti@gmail.com\n",
       "5    xxxx  female  preeti@gmail.com"
      ]
     },
     "execution_count": 307,
     "metadata": {},
     "output_type": "execute_result"
    }
   ],
   "source": [
    "df.dropna()"
   ]
  },
  {
   "cell_type": "code",
   "execution_count": 309,
   "metadata": {},
   "outputs": [],
   "source": [
    "import psycopg2 as psy"
   ]
  },
  {
   "cell_type": "code",
   "execution_count": 316,
   "metadata": {},
   "outputs": [],
   "source": [
    "def create_table():\n",
    "    conn = psy.connect(dbname=\"postgres\", user=\"postgres\", password=\"postgres\", host=\"localhost\", port=\"5432\")\n",
    "    cur = conn.cursor()\n",
    "    cur.execute(\"CREATE TABLE IF NOT EXISTS store1(item TEXT, quantity TEXT, price TEXT)\")\n",
    "    conn.commit()\n",
    "    conn.close()"
   ]
  },
  {
   "cell_type": "code",
   "execution_count": 318,
   "metadata": {},
   "outputs": [],
   "source": [
    "create_table()"
   ]
  },
  {
   "cell_type": "code",
   "execution_count": null,
   "metadata": {},
   "outputs": [],
   "source": [
    "conn = psy.connect(dbname=\"postgres\", user=\"postgres\", password=\"postgres\", host=\"localhost\", port=\"5432\")\n",
    "df.to_sql('store1',con=conn,index=False)"
   ]
  },
  {
   "cell_type": "code",
   "execution_count": null,
   "metadata": {},
   "outputs": [],
   "source": [
    "def order_price(*kwargs):\n",
    "    print(kwargs)\n",
    "    return kwargs[0]-kwargs[1]\n",
    "\n",
    "df['order_price']=df.apply(order_price(df.sales,df.profit))\n",
    "df.head(5)"
   ]
  },
  {
   "cell_type": "code",
   "execution_count": 340,
   "metadata": {},
   "outputs": [
    {
     "data": {
      "text/html": [
       "<div>\n",
       "<style scoped>\n",
       "    .dataframe tbody tr th:only-of-type {\n",
       "        vertical-align: middle;\n",
       "    }\n",
       "\n",
       "    .dataframe tbody tr th {\n",
       "        vertical-align: top;\n",
       "    }\n",
       "\n",
       "    .dataframe thead th {\n",
       "        text-align: right;\n",
       "    }\n",
       "</style>\n",
       "<table border=\"1\" class=\"dataframe\">\n",
       "  <thead>\n",
       "    <tr style=\"text-align: right;\">\n",
       "      <th></th>\n",
       "      <th>order_id</th>\n",
       "      <th>order_date</th>\n",
       "      <th>customer_name</th>\n",
       "      <th>city</th>\n",
       "      <th>category</th>\n",
       "      <th>product_id</th>\n",
       "      <th>sales</th>\n",
       "      <th>profit</th>\n",
       "      <th>order_price</th>\n",
       "    </tr>\n",
       "  </thead>\n",
       "  <tbody>\n",
       "    <tr>\n",
       "      <th>0</th>\n",
       "      <td>CA-2018-100006</td>\n",
       "      <td>2018-09-07</td>\n",
       "      <td>Dennis Kane</td>\n",
       "      <td>New York City</td>\n",
       "      <td>Technology</td>\n",
       "      <td>TEC-PH-10002075</td>\n",
       "      <td>377.970</td>\n",
       "      <td>109.6113</td>\n",
       "      <td>268.3587</td>\n",
       "    </tr>\n",
       "    <tr>\n",
       "      <th>1</th>\n",
       "      <td>CA-2018-100090</td>\n",
       "      <td>2018-07-08</td>\n",
       "      <td>Ed Braxton</td>\n",
       "      <td>San Francisco</td>\n",
       "      <td>Furniture</td>\n",
       "      <td>FUR-TA-10003715</td>\n",
       "      <td>502.488</td>\n",
       "      <td>-87.9354</td>\n",
       "      <td>590.4234</td>\n",
       "    </tr>\n",
       "    <tr>\n",
       "      <th>2</th>\n",
       "      <td>CA-2018-100293</td>\n",
       "      <td>2018-03-14</td>\n",
       "      <td>Neil Französisch</td>\n",
       "      <td>Jacksonville</td>\n",
       "      <td>Office Supplies</td>\n",
       "      <td>OFF-PA-10000176</td>\n",
       "      <td>91.056</td>\n",
       "      <td>31.8696</td>\n",
       "      <td>59.1864</td>\n",
       "    </tr>\n",
       "    <tr>\n",
       "      <th>3</th>\n",
       "      <td>CA-2018-100328</td>\n",
       "      <td>2018-01-28</td>\n",
       "      <td>Jasper Cacioppo</td>\n",
       "      <td>New York City</td>\n",
       "      <td>Office Supplies</td>\n",
       "      <td>OFF-BI-10000343</td>\n",
       "      <td>3.928</td>\n",
       "      <td>1.3257</td>\n",
       "      <td>2.6023</td>\n",
       "    </tr>\n",
       "    <tr>\n",
       "      <th>4</th>\n",
       "      <td>CA-2018-100363</td>\n",
       "      <td>2018-04-08</td>\n",
       "      <td>Jim Mitchum</td>\n",
       "      <td>Glendale</td>\n",
       "      <td>Office Supplies</td>\n",
       "      <td>OFF-FA-10000611</td>\n",
       "      <td>2.368</td>\n",
       "      <td>0.8288</td>\n",
       "      <td>1.5392</td>\n",
       "    </tr>\n",
       "  </tbody>\n",
       "</table>\n",
       "</div>"
      ],
      "text/plain": [
       "         order_id  order_date     customer_name           city  \\\n",
       "0  CA-2018-100006  2018-09-07       Dennis Kane  New York City   \n",
       "1  CA-2018-100090  2018-07-08        Ed Braxton  San Francisco   \n",
       "2  CA-2018-100293  2018-03-14  Neil Französisch   Jacksonville   \n",
       "3  CA-2018-100328  2018-01-28   Jasper Cacioppo  New York City   \n",
       "4  CA-2018-100363  2018-04-08       Jim Mitchum       Glendale   \n",
       "\n",
       "          category       product_id    sales    profit  order_price  \n",
       "0       Technology  TEC-PH-10002075  377.970  109.6113     268.3587  \n",
       "1        Furniture  FUR-TA-10003715  502.488  -87.9354     590.4234  \n",
       "2  Office Supplies  OFF-PA-10000176   91.056   31.8696      59.1864  \n",
       "3  Office Supplies  OFF-BI-10000343    3.928    1.3257       2.6023  \n",
       "4  Office Supplies  OFF-FA-10000611    2.368    0.8288       1.5392  "
      ]
     },
     "execution_count": 340,
     "metadata": {},
     "output_type": "execute_result"
    }
   ],
   "source": [
    "df.head(5)"
   ]
  },
  {
   "cell_type": "code",
   "execution_count": 328,
   "metadata": {},
   "outputs": [
    {
     "name": "stdout",
     "output_type": "stream",
     "text": [
      "(1, 2, 3) <class 'tuple'>\n",
      "{'a': 2, 'b': 2, 'c': 3} <class 'dict'>\n"
     ]
    }
   ],
   "source": [
    "def getsum3(*args,**kwargs):\n",
    "    print(args, type(args))\n",
    "    print(kwargs,type(kwargs))\n",
    "\n",
    "\n",
    "d=getsum3(1,2,3,a=2,b=2,c=3)"
   ]
  },
  {
   "cell_type": "code",
   "execution_count": 330,
   "metadata": {},
   "outputs": [
    {
     "name": "stdout",
     "output_type": "stream",
     "text": [
      "{'id': 24, 'name': 'Rahul', 'age': 35} <class 'dict'>\n",
      "name Rahul\n"
     ]
    }
   ],
   "source": [
    "def getsum3(**kwargs):\n",
    "    print(kwargs,type(kwargs))\n",
    "    print('name', kwargs['name'])\n",
    "\n",
    "\n",
    "d=getsum3(id=24,name='Rahul',age=35)"
   ]
  },
  {
   "cell_type": "code",
   "execution_count": 331,
   "metadata": {},
   "outputs": [
    {
     "name": "stdout",
     "output_type": "stream",
     "text": [
      "(1, 2, 3) <class 'tuple'>\n"
     ]
    }
   ],
   "source": [
    "def getsum3(*args):\n",
    "    print(args,type(args))\n",
    "    num=0\n",
    "    for a in args:\n",
    "        num=num+a\n",
    "    return num\n",
    "\n",
    "d=getsum3(1,2,3)"
   ]
  },
  {
   "cell_type": "code",
   "execution_count": 338,
   "metadata": {},
   "outputs": [
    {
     "name": "stdout",
     "output_type": "stream",
     "text": [
      "2 <class 'int'>\n"
     ]
    }
   ],
   "source": [
    "def getsum(a,b):\n",
    "    print(a,type(a))\n",
    "\n",
    "d= getsum(b=1.0,a=2)"
   ]
  },
  {
   "cell_type": "code",
   "execution_count": 341,
   "metadata": {},
   "outputs": [],
   "source": [
    "def order_price(row):\n",
    "    return row['sales'] - row['profit']\n",
    "    \n",
    "\n",
    "df['order_price']=df.apply(order_price,axis=1)"
   ]
  },
  {
   "cell_type": "code",
   "execution_count": 346,
   "metadata": {},
   "outputs": [],
   "source": [
    "df['flag']=df['profit'].apply(lambda p: 'profitable' if p>0 else 'non profitable')\n",
    "df['order_price']=df.apply(lambda row:row['sales']-row['profit'],axis=1)"
   ]
  },
  {
   "cell_type": "code",
   "execution_count": 344,
   "metadata": {},
   "outputs": [
    {
     "data": {
      "text/html": [
       "<div>\n",
       "<style scoped>\n",
       "    .dataframe tbody tr th:only-of-type {\n",
       "        vertical-align: middle;\n",
       "    }\n",
       "\n",
       "    .dataframe tbody tr th {\n",
       "        vertical-align: top;\n",
       "    }\n",
       "\n",
       "    .dataframe thead th {\n",
       "        text-align: right;\n",
       "    }\n",
       "</style>\n",
       "<table border=\"1\" class=\"dataframe\">\n",
       "  <thead>\n",
       "    <tr style=\"text-align: right;\">\n",
       "      <th></th>\n",
       "      <th>order_id</th>\n",
       "      <th>order_date</th>\n",
       "      <th>customer_name</th>\n",
       "      <th>city</th>\n",
       "      <th>category</th>\n",
       "      <th>product_id</th>\n",
       "      <th>sales</th>\n",
       "      <th>profit</th>\n",
       "      <th>order_price</th>\n",
       "      <th>flag</th>\n",
       "    </tr>\n",
       "  </thead>\n",
       "  <tbody>\n",
       "    <tr>\n",
       "      <th>0</th>\n",
       "      <td>CA-2018-100006</td>\n",
       "      <td>2018-09-07</td>\n",
       "      <td>Dennis Kane</td>\n",
       "      <td>New York City</td>\n",
       "      <td>Technology</td>\n",
       "      <td>TEC-PH-10002075</td>\n",
       "      <td>377.970</td>\n",
       "      <td>109.6113</td>\n",
       "      <td>268.3587</td>\n",
       "      <td>profitable</td>\n",
       "    </tr>\n",
       "    <tr>\n",
       "      <th>1</th>\n",
       "      <td>CA-2018-100090</td>\n",
       "      <td>2018-07-08</td>\n",
       "      <td>Ed Braxton</td>\n",
       "      <td>San Francisco</td>\n",
       "      <td>Furniture</td>\n",
       "      <td>FUR-TA-10003715</td>\n",
       "      <td>502.488</td>\n",
       "      <td>-87.9354</td>\n",
       "      <td>590.4234</td>\n",
       "      <td>non profitable</td>\n",
       "    </tr>\n",
       "    <tr>\n",
       "      <th>2</th>\n",
       "      <td>CA-2018-100293</td>\n",
       "      <td>2018-03-14</td>\n",
       "      <td>Neil Französisch</td>\n",
       "      <td>Jacksonville</td>\n",
       "      <td>Office Supplies</td>\n",
       "      <td>OFF-PA-10000176</td>\n",
       "      <td>91.056</td>\n",
       "      <td>31.8696</td>\n",
       "      <td>59.1864</td>\n",
       "      <td>profitable</td>\n",
       "    </tr>\n",
       "    <tr>\n",
       "      <th>3</th>\n",
       "      <td>CA-2018-100328</td>\n",
       "      <td>2018-01-28</td>\n",
       "      <td>Jasper Cacioppo</td>\n",
       "      <td>New York City</td>\n",
       "      <td>Office Supplies</td>\n",
       "      <td>OFF-BI-10000343</td>\n",
       "      <td>3.928</td>\n",
       "      <td>1.3257</td>\n",
       "      <td>2.6023</td>\n",
       "      <td>profitable</td>\n",
       "    </tr>\n",
       "    <tr>\n",
       "      <th>4</th>\n",
       "      <td>CA-2018-100363</td>\n",
       "      <td>2018-04-08</td>\n",
       "      <td>Jim Mitchum</td>\n",
       "      <td>Glendale</td>\n",
       "      <td>Office Supplies</td>\n",
       "      <td>OFF-FA-10000611</td>\n",
       "      <td>2.368</td>\n",
       "      <td>0.8288</td>\n",
       "      <td>1.5392</td>\n",
       "      <td>profitable</td>\n",
       "    </tr>\n",
       "    <tr>\n",
       "      <th>...</th>\n",
       "      <td>...</td>\n",
       "      <td>...</td>\n",
       "      <td>...</td>\n",
       "      <td>...</td>\n",
       "      <td>...</td>\n",
       "      <td>...</td>\n",
       "      <td>...</td>\n",
       "      <td>...</td>\n",
       "      <td>...</td>\n",
       "      <td>...</td>\n",
       "    </tr>\n",
       "    <tr>\n",
       "      <th>5004</th>\n",
       "      <td>US-2021-168802</td>\n",
       "      <td>2021-11-03</td>\n",
       "      <td>Jack O'Briant</td>\n",
       "      <td>Seattle</td>\n",
       "      <td>Office Supplies</td>\n",
       "      <td>OFF-BI-10002393</td>\n",
       "      <td>18.368</td>\n",
       "      <td>5.9696</td>\n",
       "      <td>12.3984</td>\n",
       "      <td>profitable</td>\n",
       "    </tr>\n",
       "    <tr>\n",
       "      <th>5005</th>\n",
       "      <td>US-2021-169320</td>\n",
       "      <td>2021-07-23</td>\n",
       "      <td>Lena Hernandez</td>\n",
       "      <td>Elkhart</td>\n",
       "      <td>Office Supplies</td>\n",
       "      <td>OFF-AR-10003602</td>\n",
       "      <td>11.680</td>\n",
       "      <td>5.4896</td>\n",
       "      <td>6.1904</td>\n",
       "      <td>profitable</td>\n",
       "    </tr>\n",
       "    <tr>\n",
       "      <th>5006</th>\n",
       "      <td>US-2021-169488</td>\n",
       "      <td>2021-09-07</td>\n",
       "      <td>Allen Armold</td>\n",
       "      <td>Providence</td>\n",
       "      <td>Office Supplies</td>\n",
       "      <td>OFF-PA-10000157</td>\n",
       "      <td>39.960</td>\n",
       "      <td>18.7812</td>\n",
       "      <td>21.1788</td>\n",
       "      <td>profitable</td>\n",
       "    </tr>\n",
       "    <tr>\n",
       "      <th>5007</th>\n",
       "      <td>US-2021-169502</td>\n",
       "      <td>2021-08-28</td>\n",
       "      <td>Matthew Grinstein</td>\n",
       "      <td>Milwaukee</td>\n",
       "      <td>Office Supplies</td>\n",
       "      <td>OFF-AP-10001947</td>\n",
       "      <td>91.600</td>\n",
       "      <td>26.5640</td>\n",
       "      <td>65.0360</td>\n",
       "      <td>profitable</td>\n",
       "    </tr>\n",
       "    <tr>\n",
       "      <th>5008</th>\n",
       "      <td>US-2021-169551</td>\n",
       "      <td>2021-07-07</td>\n",
       "      <td>Rob Lucas</td>\n",
       "      <td>Philadelphia</td>\n",
       "      <td>Furniture</td>\n",
       "      <td>FUR-BO-10001519</td>\n",
       "      <td>87.210</td>\n",
       "      <td>-45.3492</td>\n",
       "      <td>132.5592</td>\n",
       "      <td>non profitable</td>\n",
       "    </tr>\n",
       "  </tbody>\n",
       "</table>\n",
       "<p>5009 rows × 10 columns</p>\n",
       "</div>"
      ],
      "text/plain": [
       "            order_id  order_date      customer_name           city  \\\n",
       "0     CA-2018-100006  2018-09-07        Dennis Kane  New York City   \n",
       "1     CA-2018-100090  2018-07-08         Ed Braxton  San Francisco   \n",
       "2     CA-2018-100293  2018-03-14   Neil Französisch   Jacksonville   \n",
       "3     CA-2018-100328  2018-01-28    Jasper Cacioppo  New York City   \n",
       "4     CA-2018-100363  2018-04-08        Jim Mitchum       Glendale   \n",
       "...              ...         ...                ...            ...   \n",
       "5004  US-2021-168802  2021-11-03      Jack O'Briant        Seattle   \n",
       "5005  US-2021-169320  2021-07-23     Lena Hernandez        Elkhart   \n",
       "5006  US-2021-169488  2021-09-07       Allen Armold     Providence   \n",
       "5007  US-2021-169502  2021-08-28  Matthew Grinstein      Milwaukee   \n",
       "5008  US-2021-169551  2021-07-07          Rob Lucas   Philadelphia   \n",
       "\n",
       "             category       product_id    sales    profit  order_price  \\\n",
       "0          Technology  TEC-PH-10002075  377.970  109.6113     268.3587   \n",
       "1           Furniture  FUR-TA-10003715  502.488  -87.9354     590.4234   \n",
       "2     Office Supplies  OFF-PA-10000176   91.056   31.8696      59.1864   \n",
       "3     Office Supplies  OFF-BI-10000343    3.928    1.3257       2.6023   \n",
       "4     Office Supplies  OFF-FA-10000611    2.368    0.8288       1.5392   \n",
       "...               ...              ...      ...       ...          ...   \n",
       "5004  Office Supplies  OFF-BI-10002393   18.368    5.9696      12.3984   \n",
       "5005  Office Supplies  OFF-AR-10003602   11.680    5.4896       6.1904   \n",
       "5006  Office Supplies  OFF-PA-10000157   39.960   18.7812      21.1788   \n",
       "5007  Office Supplies  OFF-AP-10001947   91.600   26.5640      65.0360   \n",
       "5008        Furniture  FUR-BO-10001519   87.210  -45.3492     132.5592   \n",
       "\n",
       "                flag  \n",
       "0         profitable  \n",
       "1     non profitable  \n",
       "2         profitable  \n",
       "3         profitable  \n",
       "4         profitable  \n",
       "...              ...  \n",
       "5004      profitable  \n",
       "5005      profitable  \n",
       "5006      profitable  \n",
       "5007      profitable  \n",
       "5008  non profitable  \n",
       "\n",
       "[5009 rows x 10 columns]"
      ]
     },
     "execution_count": 344,
     "metadata": {},
     "output_type": "execute_result"
    }
   ],
   "source": [
    "df"
   ]
  }
 ],
 "metadata": {
  "kernelspec": {
   "display_name": "Python 3",
   "language": "python",
   "name": "python3"
  },
  "language_info": {
   "codemirror_mode": {
    "name": "ipython",
    "version": 3
   },
   "file_extension": ".py",
   "mimetype": "text/x-python",
   "name": "python",
   "nbconvert_exporter": "python",
   "pygments_lexer": "ipython3",
   "version": "3.10.7"
  },
  "orig_nbformat": 4
 },
 "nbformat": 4,
 "nbformat_minor": 2
}
